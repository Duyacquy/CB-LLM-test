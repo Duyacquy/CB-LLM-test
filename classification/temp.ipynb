{
 "cells": [
  {
   "cell_type": "code",
   "execution_count": 1,
   "id": "16ad6905-5fe6-4b99-82e2-fe134ea41b0f",
   "metadata": {},
   "outputs": [],
   "source": [
    "import numpy as np"
   ]
  },
  {
   "cell_type": "code",
   "execution_count": 2,
   "id": "1768e1e7-c62b-4654-a9b4-170aa406bcd5",
   "metadata": {},
   "outputs": [],
   "source": [
    "train_sim = np.load(\"mpnet_acs/TimSchopf_medical_abstracts/concept_labels_train.npy\")"
   ]
  },
  {
   "cell_type": "code",
   "execution_count": 3,
   "id": "04225e31-b8f7-49e1-b1f6-45e6f7055d07",
   "metadata": {},
   "outputs": [
    {
     "data": {
      "text/plain": [
       "(6621, 150)"
      ]
     },
     "execution_count": 3,
     "metadata": {},
     "output_type": "execute_result"
    }
   ],
   "source": [
    "train_sim.shape"
   ]
  },
  {
   "cell_type": "code",
   "execution_count": null,
   "id": "a67a4811-b242-4d71-885b-24efb1227c4f",
   "metadata": {},
   "outputs": [],
   "source": []
  }
 ],
 "metadata": {
  "kernelspec": {
   "display_name": "Python 3 (ipykernel)",
   "language": "python",
   "name": "python3"
  },
  "language_info": {
   "codemirror_mode": {
    "name": "ipython",
    "version": 3
   },
   "file_extension": ".py",
   "mimetype": "text/x-python",
   "name": "python",
   "nbconvert_exporter": "python",
   "pygments_lexer": "ipython3",
   "version": "3.11.11"
  }
 },
 "nbformat": 4,
 "nbformat_minor": 5
}
